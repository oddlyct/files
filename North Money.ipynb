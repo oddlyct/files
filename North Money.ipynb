{
 "cells": [
  {
   "cell_type": "code",
   "execution_count": 1,
   "metadata": {},
   "outputs": [
    {
     "name": "stdout",
     "output_type": "stream",
     "text": [
      "20201110数据已写入\n"
     ]
    }
   ],
   "source": [
    "from pymongo import MongoClient\n",
    "import tushare\n",
    "import json\n",
    "import requests\n",
    "from fake_useragent import UserAgent\n",
    "import datetime\n",
    "\n",
    "class IwencaiNorth:\n",
    "\n",
    "    def __init__(self):\n",
    "        self.collection=MongoClient()['wencai']['north']\n",
    "\n",
    "    def get_trade_date(self):\n",
    "#         tushare.set_token('8b8f77e8abc8396a88d99ee51fd76a602fbe8fb3c0eae86c6561e3d7')\n",
    "#         pro = tushare.pro_api()\n",
    "#         df = pro.trade_cal(exchange='', start_date='20200926', end_date='20201012', is_open='1')\n",
    "#         date = df['cal_date'].to_list()\n",
    "        day = datetime.datetime.now()\n",
    "        date=['20201110']\n",
    "#         date = [day.strftime('%Y%m%d')]\n",
    "\n",
    "        return date\n",
    "\n",
    "    def get_data(self, question):\n",
    "        self.headers = {\n",
    "            'Host': 'www.iwencai.com',\n",
    "            'Origin': 'http://www.iwencai.com',\n",
    "            'Referer': 'http://www.iwencai.com/unifiedwap/result?w=%s&querytype=&issugs' % question,\n",
    "            'User-Agent': UserAgent(path='D://fake_useragent.json').random,\n",
    "            'Accept - Encoding': 'gzip, deflate',\n",
    "            'Accept - Language': 'zh - CN, zh;q = 0.9, ja;q = 0.8, ko;q = 0.7'\n",
    "        }\n",
    "        self.post_url = 'http://www.iwencai.com/unifiedwap/unified-wap/result/get-stock-pick'\n",
    "        self.data_temp = {\n",
    "            'question': question,\n",
    "            'secondary_intent': 'stock',\n",
    "            'perpage': 5000,\n",
    "            'page': 1, }\n",
    "        self.cookies = {'chat_bot_session_id': '469324f4d5b911bf9c05def3ee800dab',\n",
    "                        ' PHPSESSID': 'b50a91cc70dc14f137a78b8f2db9282d',\n",
    "                        ' cid': 'b50a91cc70dc14f137a78b8f2db9282d1582445631',\n",
    "                        ' ComputerID': 'b50a91cc70dc14f137a78b8f2db9282d1582445631', ' guideState': '1',\n",
    "                        ' other_uid': 'Ths_iwencai_Xuangu_087b043c9b7bf78a61804a7bd7b5b912',\n",
    "                        ' user': 'MDptb18yMTEzMTY4NzI6Ok5vbmU6NTAwOjIyMTMxNjg3Mjo3LDExMTExMTExMTExLDQwOzQ0LDExLDQwOzYsMSw0MDs1LDEsNDA7MSwxLDQwOzIsMSw0MDszLDEsNDA7NSwxLDQwOzgsMDAwMDAwMDAwMDAwMDAwMDAwMDAwMDEsNDA6MjQ6OjoyMTEzMTY4NzI6MTU4Mjg3Mzc2Mjo6OjE0MjAxNjk1MjA6ODY0MDA6MDoxYjE0ZWNiNjg1ZmNkODMzZWFhNGFmOGZlYTc1NDE1NjI6ZGVmYXVsdF80OjE%3D',\n",
    "                        ' userid': '211316872', ' u_name': 'mo_211316872', ' escapename': 'mo_211316872',\n",
    "                        ' ticket': '595ce825965bcf62ce6b927820fe9aae',\n",
    "                        ' v': 'Ap7K_6bJTJHijJj1t6SQFYZh6T_gX2La9CAW-EgnCiDdZzHlsO-y6cSzZsQb'}\n",
    "        response = requests.post(self.post_url, data=self.data_temp, headers=self.headers, cookies=self.cookies)\n",
    "        resp = response.content.decode(encoding=\"utf-8\", errors=\"replace\")\n",
    "        return json.loads(resp)\n",
    "\n",
    "    def save_to_mongo(self,data,i):\n",
    "        self.collection.insert_one(data)\n",
    "        print('{}数据已写入'.format(i))\n",
    "\n",
    "\n",
    "    def run(self):\n",
    "        trade_date=self.get_trade_date()\n",
    "        for i in trade_date:\n",
    "            i_format='%s年%s月%s日' % (i[0:4], i[4:6], i[6:8])\n",
    "            question_str = i_format + '港资流向'\n",
    "            question=question_str.encode('utf-8')\n",
    "            datas=self.get_data(question)['data']['data']\n",
    "            north_list=[]\n",
    "            for data in datas:\n",
    "                item={}\n",
    "                item['股票简称']=data['股票简称']\n",
    "                item['股票代码']=data['股票代码']\n",
    "                item['陆股通持股量']=data['陆股通持股量[{}]'.format(i)]\n",
    "                item['陆股通卖出金额']=data['陆股通卖出金额[{}]'.format(i)]\n",
    "                item['陆股通成交金额']=data['陆股通成交金额[{}]'.format(i)]\n",
    "                item['陆股通净买入额']=data['陆股通净买入额[{}]'.format(i)]\n",
    "                item['陆股通持股占流通a股比']=data['陆股通持股占流通a股比[{}]'.format(i)]\n",
    "                north_list.append(item)\n",
    "            n_data={'date':i,'data':north_list}\n",
    "            self.save_to_mongo(n_data,i)       \n",
    "\n",
    "if __name__ == '__main__':\n",
    "    north=IwencaiNorth()\n",
    "    north.run()\n"
   ]
  },
  {
   "cell_type": "code",
   "execution_count": null,
   "metadata": {},
   "outputs": [],
   "source": []
  }
 ],
 "metadata": {
  "kernelspec": {
   "display_name": "Python 3",
   "language": "python",
   "name": "python3"
  },
  "language_info": {
   "codemirror_mode": {
    "name": "ipython",
    "version": 3
   },
   "file_extension": ".py",
   "mimetype": "text/x-python",
   "name": "python",
   "nbconvert_exporter": "python",
   "pygments_lexer": "ipython3",
   "version": "3.7.9"
  },
  "varInspector": {
   "cols": {
    "lenName": 16,
    "lenType": 16,
    "lenVar": 40
   },
   "kernels_config": {
    "python": {
     "delete_cmd_postfix": "",
     "delete_cmd_prefix": "del ",
     "library": "var_list.py",
     "varRefreshCmd": "print(var_dic_list())"
    },
    "r": {
     "delete_cmd_postfix": ") ",
     "delete_cmd_prefix": "rm(",
     "library": "var_list.r",
     "varRefreshCmd": "cat(var_dic_list()) "
    }
   },
   "types_to_exclude": [
    "module",
    "function",
    "builtin_function_or_method",
    "instance",
    "_Feature"
   ],
   "window_display": false
  }
 },
 "nbformat": 4,
 "nbformat_minor": 4
}
