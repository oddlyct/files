{
 "cells": [
  {
   "cell_type": "code",
   "execution_count": 2,
   "metadata": {},
   "outputs": [
    {
     "name": "stdin",
     "output_type": "stream",
     "text": [
      "输入查询60日新高或者新低(新高/新低)： 新低\n"
     ]
    },
    {
     "name": "stdout",
     "output_type": "stream",
     "text": [
      "2020年11月11日收盘价创60日新低\n",
      "20201111的数据已写入数据库\n"
     ]
    }
   ],
   "source": [
    "from pymongo import MongoClient\n",
    "import tushare\n",
    "import json\n",
    "import requests\n",
    "from fake_useragent import UserAgent\n",
    "import datetime\n",
    "\n",
    "class IwencaiNewHigh:\n",
    "\n",
    "    def __init__(self):\n",
    "        self.db=MongoClient()['wencai']\n",
    "\n",
    "    def get_trade_date(self):\n",
    "        # tushare.set_token('8b8f77e8abc8396a88d99ee51fd76a602fbe8fb3c0eae86c6561e3d7')\n",
    "        # pro = tushare.pro_api()\n",
    "        # df = pro.trade_cal(exchange='', start_date='20200727', end_date='20200907', is_open='1')\n",
    "        # date = df['cal_date'].to_list()\n",
    "        day = datetime.datetime.now()\n",
    "#         date=['20201109']\n",
    "        date = [day.strftime('%Y%m%d')]\n",
    "\n",
    "        return date\n",
    "\n",
    "    def get_data(self, question):\n",
    "        self.headers = {\n",
    "            'Host': 'www.iwencai.com',\n",
    "            'Origin': 'http://www.iwencai.com',\n",
    "            'Referer': 'http://www.iwencai.com/unifiedwap/result?w=%s&querytype=&issugs' % question,\n",
    "            'User-Agent': UserAgent(path='D://fake_useragent.json').random,\n",
    "            'Accept - Encoding': 'gzip, deflate',\n",
    "            'Accept - Language': 'zh - CN, zh;q = 0.9, ja;q = 0.8, ko;q = 0.7'\n",
    "        }\n",
    "        self.post_url = 'http://www.iwencai.com/unifiedwap/unified-wap/result/get-stock-pick'\n",
    "        self.data_temp = {\n",
    "            'question': question,\n",
    "            'secondary_intent': 'stock',\n",
    "            'perpage': 4000,\n",
    "            'page': 1, }\n",
    "        self.cookies = {'chat_bot_session_id': '469324f4d5b911bf9c05def3ee800dab',\n",
    "                        ' PHPSESSID': 'b50a91cc70dc14f137a78b8f2db9282d',\n",
    "                        ' cid': 'b50a91cc70dc14f137a78b8f2db9282d1582445631',\n",
    "                        ' ComputerID': 'b50a91cc70dc14f137a78b8f2db9282d1582445631', ' guideState': '1',\n",
    "                        ' other_uid': 'Ths_iwencai_Xuangu_087b043c9b7bf78a61804a7bd7b5b912',\n",
    "                        ' user': 'MDptb18yMTEzMTY4NzI6Ok5vbmU6NTAwOjIyMTMxNjg3Mjo3LDExMTExMTExMTExLDQwOzQ0LDExLDQwOzYsMSw0MDs1LDEsNDA7MSwxLDQwOzIsMSw0MDszLDEsNDA7NSwxLDQwOzgsMDAwMDAwMDAwMDAwMDAwMDAwMDAwMDEsNDA6MjQ6OjoyMTEzMTY4NzI6MTU4Mjg3Mzc2Mjo6OjE0MjAxNjk1MjA6ODY0MDA6MDoxYjE0ZWNiNjg1ZmNkODMzZWFhNGFmOGZlYTc1NDE1NjI6ZGVmYXVsdF80OjE%3D',\n",
    "                        ' userid': '211316872', ' u_name': 'mo_211316872', ' escapename': 'mo_211316872',\n",
    "                        ' ticket': '595ce825965bcf62ce6b927820fe9aae',\n",
    "                        ' v': 'Ap7K_6bJTJHijJj1t6SQFYZh6T_gX2La9CAW-EgnCiDdZzHlsO-y6cSzZsQb'}\n",
    "        response = requests.post(self.post_url, data=self.data_temp, headers=self.headers, cookies=self.cookies)\n",
    "        resp = response.content.decode(encoding=\"utf-8\", errors=\"replace\")\n",
    "        return json.loads(resp)\n",
    "\n",
    "    def save_to_mongo(self, data_list, date,collection):\n",
    "        item={'新高数量':data_list['analyze_data']['code_count']}\n",
    "        item['trade_date']=date\n",
    "        item['新高个股']=data_list['data']\n",
    "        collection.insert_one(item)\n",
    "\n",
    "\n",
    "    def run(self):\n",
    "        period=input('输入查询60日新高或者新低(新高/新低)：')\n",
    "        col_name='high' if period=='新高' else 'low'\n",
    "        collection=self.db['new{}60'.format(col_name)]\n",
    "        trade_date = self.get_trade_date()\n",
    "        for i in trade_date:\n",
    "            i_format = '%s年%s月%s日' % (i[0:4], i[4:6], i[6:8])\n",
    "            question_str = i_format + '收盘价创60日{}'.format(period)\n",
    "            print(question_str)\n",
    "            question = question_str.encode('utf-8')\n",
    "            block_data = self.get_data(question)['data']\n",
    "            self.save_to_mongo(block_data, i,collection)\n",
    "            print('{}的数据已写入数据库'.format(i))\n",
    "\n",
    "\n",
    "if __name__ == '__main__':\n",
    "    newhigh=IwencaiNewHigh()\n",
    "    newhigh.run()\n"
   ]
  },
  {
   "cell_type": "code",
   "execution_count": null,
   "metadata": {},
   "outputs": [],
   "source": []
  }
 ],
 "metadata": {
  "kernelspec": {
   "display_name": "Python 3",
   "language": "python",
   "name": "python3"
  },
  "language_info": {
   "codemirror_mode": {
    "name": "ipython",
    "version": 3
   },
   "file_extension": ".py",
   "mimetype": "text/x-python",
   "name": "python",
   "nbconvert_exporter": "python",
   "pygments_lexer": "ipython3",
   "version": "3.7.9"
  },
  "varInspector": {
   "cols": {
    "lenName": 16,
    "lenType": 16,
    "lenVar": 40
   },
   "kernels_config": {
    "python": {
     "delete_cmd_postfix": "",
     "delete_cmd_prefix": "del ",
     "library": "var_list.py",
     "varRefreshCmd": "print(var_dic_list())"
    },
    "r": {
     "delete_cmd_postfix": ") ",
     "delete_cmd_prefix": "rm(",
     "library": "var_list.r",
     "varRefreshCmd": "cat(var_dic_list()) "
    }
   },
   "types_to_exclude": [
    "module",
    "function",
    "builtin_function_or_method",
    "instance",
    "_Feature"
   ],
   "window_display": false
  }
 },
 "nbformat": 4,
 "nbformat_minor": 4
}
